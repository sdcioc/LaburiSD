{
  "nbformat": 4,
  "nbformat_minor": 0,
  "metadata": {
    "celltoolbar": "Raw Cell Format",
    "kernelspec": {
      "display_name": "R",
      "language": "R",
      "name": "ir"
    },
    "language_info": {
      "codemirror_mode": "r",
      "file_extension": ".r",
      "mimetype": "text/x-r-source",
      "name": "R",
      "pygments_lexer": "r",
      "version": "3.3.3"
    },
    "colab": {
      "name": "ȘD Lab 1.ipynb",
      "provenance": [],
      "collapsed_sections": []
    }
  },
  "cells": [
    {
      "cell_type": "markdown",
      "metadata": {
        "id": "6zt-1unQK5E1"
      },
      "source": [
        "# ȘD - Scop\n",
        "Scopul laborataorelor de Știința Datelor este formarea următoarelor capacități:\n",
        "\n",
        "- Matematice\n",
        "- Programare\n",
        "- Procesare a datelor\n",
        "- De cercetare\n",
        "\n",
        "## Limbajul R\n",
        "\n",
        "### Istorie\n",
        "R se trage din limbajul S, creat în 1976 la BELL, special pentru analiză statistică. Acesta a fost făcut în Fortran. Echivalentul lui din ziua de astăzi este Splus, care este proprietar. Dezvoltarea R a început în 1992 și s-a terminat o dată cu nașterea R pe 29 februarie 2000 . Avantajul lui este că e open-source și a transpus multe părți din Fortran în C. În ziua de astăzi este considerat cel mai specific limbaj pentru statistică.\n",
        "\n",
        "### Părți Importante\n",
        "IDE-ul de dezvoltare R Studio oferă consolă, editor de fișiere, incorporează managementul de pachete, graficele si documentația. CRAN este arhiva de pachete pentru R.  Rd este un mark-up asemănător latext pentru R, în care sunt făcute documentațiile funcțiilor. R conține foarte multe seturi de date incorporate precum celebrele iris și mtcars.\n",
        "Putem apela docuemntația pentru o funcție cu ?functie.\n",
        "Are un depanator incorporat foarte ușor de utilizat, asemănător celui din visual studio code.\n",
        "\n",
        "### Tipuri de bază - Clase atomice\n",
        "\n",
        "Înainte să intrăm în detalii operatorul de atribuire în R este ```<-```, ```print``` este o funcție de afișare a unui obiect, iar ```class``` este o funcție ce returnează tipul obiectului.\n",
        "\n",
        "#### Caracter\n",
        "Primul tip de bază 'caracter', reprezentat unicode."
      ]
    },
    {
      "cell_type": "code",
      "metadata": {
        "id": "YC2_-zupK5E5",
        "outputId": "1653e0bf-dde8-4263-fa40-1a75ca18497c"
      },
      "source": [
        "a <- 'a'\n",
        "print(a)\n",
        "class(a)"
      ],
      "execution_count": null,
      "outputs": [
        {
          "output_type": "stream",
          "text": [
            "[1] \"a\"\n"
          ],
          "name": "stdout"
        },
        {
          "output_type": "display_data",
          "data": {
            "text/html": [
              "'character'"
            ],
            "text/latex": "'character'",
            "text/markdown": "'character'",
            "text/plain": [
              "[1] \"character\""
            ]
          },
          "metadata": {
            "tags": []
          }
        }
      ]
    },
    {
      "cell_type": "markdown",
      "metadata": {
        "id": "D1zcQe5qK5E_"
      },
      "source": [
        "#### Număr real\n",
        "Numere reale sunt reprezentate prin clasa numeric. Ele sunt stocate sub forma IEEE 754 double."
      ]
    },
    {
      "cell_type": "code",
      "metadata": {
        "id": "QdjVqBjtK5E_",
        "outputId": "3904169f-95e1-4c4c-efca-e8c04bdc8f15"
      },
      "source": [
        "a <- 1.3\n",
        "print(a)\n",
        "class(a)"
      ],
      "execution_count": null,
      "outputs": [
        {
          "output_type": "stream",
          "text": [
            "[1] 1.3\n"
          ],
          "name": "stdout"
        },
        {
          "output_type": "display_data",
          "data": {
            "text/html": [
              "'numeric'"
            ],
            "text/latex": "'numeric'",
            "text/markdown": "'numeric'",
            "text/plain": [
              "[1] \"numeric\""
            ]
          },
          "metadata": {
            "tags": []
          }
        }
      ]
    },
    {
      "cell_type": "markdown",
      "metadata": {
        "id": "NtS1s_D5K5FD"
      },
      "source": [
        "#### Număr Întreg\n",
        "Numere intregi necesită litera L ca sufix în notare. Ele sunt memeorate pe 32 de biți."
      ]
    },
    {
      "cell_type": "code",
      "metadata": {
        "id": "j4LPF8-aK5FD",
        "outputId": "0f8fb5e6-c5eb-4ebb-9ca1-2951bde80ac5"
      },
      "source": [
        "a <- 1L\n",
        "print(a)\n",
        "class(a)"
      ],
      "execution_count": null,
      "outputs": [
        {
          "output_type": "stream",
          "text": [
            "[1] 1\n"
          ],
          "name": "stdout"
        },
        {
          "output_type": "display_data",
          "data": {
            "text/html": [
              "'integer'"
            ],
            "text/latex": "'integer'",
            "text/markdown": "'integer'",
            "text/plain": [
              "[1] \"integer\""
            ]
          },
          "metadata": {
            "tags": []
          }
        }
      ]
    },
    {
      "cell_type": "markdown",
      "metadata": {
        "id": "MM7k5Z89K5FG"
      },
      "source": [
        "#### Număr complex\n",
        "Numerele complexe sunt reținute ca 2 valori IEEE 754 double."
      ]
    },
    {
      "cell_type": "code",
      "metadata": {
        "id": "lgwj50i4K5FH",
        "outputId": "afe9f987-dc24-42cb-fbbb-8f1e5c13263b"
      },
      "source": [
        "a <- 1+1i\n",
        "print(a)\n",
        "class(a)"
      ],
      "execution_count": null,
      "outputs": [
        {
          "output_type": "stream",
          "text": [
            "[1] 1+1i\n"
          ],
          "name": "stdout"
        },
        {
          "output_type": "display_data",
          "data": {
            "text/html": [
              "'complex'"
            ],
            "text/latex": "'complex'",
            "text/markdown": "'complex'",
            "text/plain": [
              "[1] \"complex\""
            ]
          },
          "metadata": {
            "tags": []
          }
        }
      ]
    },
    {
      "cell_type": "markdown",
      "metadata": {
        "id": "UyTWLt_ZK5FJ"
      },
      "source": [
        "#### Element logic\n",
        "Elemente logice au două valori: TRUE și FALSE."
      ]
    },
    {
      "cell_type": "code",
      "metadata": {
        "id": "NmfqfUbRK5FK",
        "outputId": "1136bde1-f950-4e3d-b79b-4d810dc4a91d"
      },
      "source": [
        "a <- TRUE\n",
        "print(a)\n",
        "class(a)\n",
        "summary(a)"
      ],
      "execution_count": null,
      "outputs": [
        {
          "output_type": "stream",
          "text": [
            "[1] TRUE\n"
          ],
          "name": "stdout"
        },
        {
          "output_type": "display_data",
          "data": {
            "text/html": [
              "'logical'"
            ],
            "text/latex": "'logical'",
            "text/markdown": "'logical'",
            "text/plain": [
              "[1] \"logical\""
            ]
          },
          "metadata": {
            "tags": []
          }
        },
        {
          "output_type": "display_data",
          "data": {
            "text/plain": [
              "   Mode    TRUE    NA's \n",
              "logical       1       0 "
            ]
          },
          "metadata": {
            "tags": []
          }
        }
      ]
    },
    {
      "cell_type": "markdown",
      "metadata": {
        "id": "aDcGq7kxK5FM"
      },
      "source": [
        "### Clase de bază\n",
        "\n",
        "#### Vector\n",
        "Prima clasă de bază este Vector. Aceasta poate stoca mai multe elemente de același tip sau clasă."
      ]
    },
    {
      "cell_type": "code",
      "metadata": {
        "id": "C3AxTjXbK5FN",
        "outputId": "0747f599-711d-433c-ab25-e7abaa626a48"
      },
      "source": [
        "a <- c(1,2,3)\n",
        "print(a)\n",
        "class(a)\n",
        "\n",
        "b <- c('a','b','c')\n",
        "print(b)\n",
        "class(b)\n",
        "summary(b)"
      ],
      "execution_count": null,
      "outputs": [
        {
          "output_type": "stream",
          "text": [
            "[1] 1 2 3\n"
          ],
          "name": "stdout"
        },
        {
          "output_type": "display_data",
          "data": {
            "text/html": [
              "'numeric'"
            ],
            "text/latex": "'numeric'",
            "text/markdown": "'numeric'",
            "text/plain": [
              "[1] \"numeric\""
            ]
          },
          "metadata": {
            "tags": []
          }
        },
        {
          "output_type": "stream",
          "text": [
            "[1] \"a\" \"b\" \"c\"\n"
          ],
          "name": "stdout"
        },
        {
          "output_type": "display_data",
          "data": {
            "text/html": [
              "'character'"
            ],
            "text/latex": "'character'",
            "text/markdown": "'character'",
            "text/plain": [
              "[1] \"character\""
            ]
          },
          "metadata": {
            "tags": []
          }
        },
        {
          "output_type": "display_data",
          "data": {
            "text/plain": [
              "   Length     Class      Mode \n",
              "        3 character character "
            ]
          },
          "metadata": {
            "tags": []
          }
        }
      ]
    },
    {
      "cell_type": "markdown",
      "metadata": {
        "id": "AZTqShDaK5FP"
      },
      "source": [
        "În caz de folosire a mai multor tipuri se va alege cel mai cuprinzător dintre ele. Prin cuprinzător se referă la tipul la care tuturor celălalte li se poate face conversia."
      ]
    },
    {
      "cell_type": "code",
      "metadata": {
        "id": "_5qmSM2uK5FQ",
        "outputId": "10968f41-097c-4a57-9bf0-1eae68eb5bfe"
      },
      "source": [
        "a <- c(1,'a',3L,TRUE)\n",
        "print(a)\n",
        "class(a)\n",
        "a[4] == TRUE\n",
        "summary(a)"
      ],
      "execution_count": null,
      "outputs": [
        {
          "output_type": "stream",
          "text": [
            "[1] \"1\"    \"a\"    \"3\"    \"TRUE\"\n"
          ],
          "name": "stdout"
        },
        {
          "output_type": "display_data",
          "data": {
            "text/html": [
              "'character'"
            ],
            "text/latex": "'character'",
            "text/markdown": "'character'",
            "text/plain": [
              "[1] \"character\""
            ]
          },
          "metadata": {
            "tags": []
          }
        },
        {
          "output_type": "display_data",
          "data": {
            "text/html": [
              "TRUE"
            ],
            "text/latex": "TRUE",
            "text/markdown": "TRUE",
            "text/plain": [
              "[1] TRUE"
            ]
          },
          "metadata": {
            "tags": []
          }
        },
        {
          "output_type": "display_data",
          "data": {
            "text/plain": [
              "   Length     Class      Mode \n",
              "        4 character character "
            ]
          },
          "metadata": {
            "tags": []
          }
        }
      ]
    },
    {
      "cell_type": "markdown",
      "metadata": {
        "id": "reUqPIPzK5FT"
      },
      "source": [
        "#### Listă\n",
        "Dacă vrem să punem într-o grupare tipuri diferite, putem folosi clasa listă."
      ]
    },
    {
      "cell_type": "code",
      "metadata": {
        "id": "YOZcHh57K5FT",
        "outputId": "90c70612-213f-45d9-ad8b-b5b904f9d860"
      },
      "source": [
        "a <- list(1,'a',3L,TRUE)\n",
        "print(a)\n",
        "class(a)\n",
        "a[4] == TRUE\n",
        "summary(a)"
      ],
      "execution_count": null,
      "outputs": [
        {
          "output_type": "stream",
          "text": [
            "[[1]]\n",
            "[1] 1\n",
            "\n",
            "[[2]]\n",
            "[1] \"a\"\n",
            "\n",
            "[[3]]\n",
            "[1] 3\n",
            "\n",
            "[[4]]\n",
            "[1] TRUE\n",
            "\n"
          ],
          "name": "stdout"
        },
        {
          "output_type": "display_data",
          "data": {
            "text/html": [
              "'list'"
            ],
            "text/latex": "'list'",
            "text/markdown": "'list'",
            "text/plain": [
              "[1] \"list\""
            ]
          },
          "metadata": {
            "tags": []
          }
        },
        {
          "output_type": "display_data",
          "data": {
            "text/html": [
              "TRUE"
            ],
            "text/latex": "TRUE",
            "text/markdown": "TRUE",
            "text/plain": [
              "[1] TRUE"
            ]
          },
          "metadata": {
            "tags": []
          }
        },
        {
          "output_type": "display_data",
          "data": {
            "text/plain": [
              "     Length Class  Mode     \n",
              "[1,] 1      -none- numeric  \n",
              "[2,] 1      -none- character\n",
              "[3,] 1      -none- numeric  \n",
              "[4,] 1      -none- logical  "
            ]
          },
          "metadata": {
            "tags": []
          }
        }
      ]
    },
    {
      "cell_type": "markdown",
      "metadata": {
        "id": "-fU3HhqCK5FV"
      },
      "source": [
        "#### Matrice\n",
        "Matricea, asemenea vectorilor, poate avea doar elemente de același tip. "
      ]
    },
    {
      "cell_type": "code",
      "metadata": {
        "id": "MpY2pduGK5FW",
        "outputId": "829deb1e-357a-4032-c025-101ecba00403"
      },
      "source": [
        "a <- matrix(c('a','b','c','d','e','f'),nrow=2,ncol=3)\n",
        "print(a)\n",
        "class(a)\n",
        "summary(a)"
      ],
      "execution_count": null,
      "outputs": [
        {
          "output_type": "stream",
          "text": [
            "     [,1] [,2] [,3]\n",
            "[1,] \"a\"  \"c\"  \"e\" \n",
            "[2,] \"b\"  \"d\"  \"f\" \n"
          ],
          "name": "stdout"
        },
        {
          "output_type": "display_data",
          "data": {
            "text/html": [
              "'matrix'"
            ],
            "text/latex": "'matrix'",
            "text/markdown": "'matrix'",
            "text/plain": [
              "[1] \"matrix\""
            ]
          },
          "metadata": {
            "tags": []
          }
        },
        {
          "output_type": "display_data",
          "data": {
            "text/plain": [
              " V1    V2    V3   \n",
              " a:1   c:1   e:1  \n",
              " b:1   d:1   f:1  "
            ]
          },
          "metadata": {
            "tags": []
          }
        }
      ]
    },
    {
      "cell_type": "markdown",
      "metadata": {
        "id": "W3FYJgxJK5FY"
      },
      "source": [
        "#### Cadru de date\n",
        "Cadrul de date este o listă de vectori de lungimi egale."
      ]
    },
    {
      "cell_type": "code",
      "metadata": {
        "id": "9Uq2sFmsK5FY",
        "outputId": "02bcbd9a-018b-4fc8-9b2d-457d684d9bef"
      },
      "source": [
        "a <- data.frame(c('a','b','c','d','e','f'),1:6)\n",
        "print(a)\n",
        "class(a)\n",
        "summary(a)\n",
        "a <- data.frame(a=c('a','b','c','d','e','f'),b=1:6)\n",
        "print(a)\n",
        "class(a)\n",
        "summary(a)"
      ],
      "execution_count": null,
      "outputs": [
        {
          "output_type": "stream",
          "text": [
            "  c..a....b....c....d....e....f.. X1.6\n",
            "1                               a    1\n",
            "2                               b    2\n",
            "3                               c    3\n",
            "4                               d    4\n",
            "5                               e    5\n",
            "6                               f    6\n"
          ],
          "name": "stdout"
        },
        {
          "output_type": "display_data",
          "data": {
            "text/html": [
              "'data.frame'"
            ],
            "text/latex": "'data.frame'",
            "text/markdown": "'data.frame'",
            "text/plain": [
              "[1] \"data.frame\""
            ]
          },
          "metadata": {
            "tags": []
          }
        },
        {
          "output_type": "display_data",
          "data": {
            "text/plain": [
              " c..a....b....c....d....e....f..      X1.6     \n",
              " a:1                             Min.   :1.00  \n",
              " b:1                             1st Qu.:2.25  \n",
              " c:1                             Median :3.50  \n",
              " d:1                             Mean   :3.50  \n",
              " e:1                             3rd Qu.:4.75  \n",
              " f:1                             Max.   :6.00  "
            ]
          },
          "metadata": {
            "tags": []
          }
        },
        {
          "output_type": "stream",
          "text": [
            "  a b\n",
            "1 a 1\n",
            "2 b 2\n",
            "3 c 3\n",
            "4 d 4\n",
            "5 e 5\n",
            "6 f 6\n"
          ],
          "name": "stdout"
        },
        {
          "output_type": "display_data",
          "data": {
            "text/html": [
              "'data.frame'"
            ],
            "text/latex": "'data.frame'",
            "text/markdown": "'data.frame'",
            "text/plain": [
              "[1] \"data.frame\""
            ]
          },
          "metadata": {
            "tags": []
          }
        },
        {
          "output_type": "display_data",
          "data": {
            "text/plain": [
              " a           b       \n",
              " a:1   Min.   :1.00  \n",
              " b:1   1st Qu.:2.25  \n",
              " c:1   Median :3.50  \n",
              " d:1   Mean   :3.50  \n",
              " e:1   3rd Qu.:4.75  \n",
              " f:1   Max.   :6.00  "
            ]
          },
          "metadata": {
            "tags": []
          }
        }
      ]
    },
    {
      "cell_type": "markdown",
      "metadata": {
        "id": "WjHX14umK5Fb"
      },
      "source": [
        "#### Factori\n",
        "O clasă specială este cea de factori. Acestia se folosesc atunci când avem un numar finit de valori text într-un vector. Pentru îmbunătățirea performanței, fiecare valoare textuala va primi o reprezentare numerică 1,2 ... ."
      ]
    },
    {
      "cell_type": "code",
      "metadata": {
        "id": "3VI_LAk_K5Fb",
        "outputId": "13ce70d5-48e6-49ab-dc19-e3da5493408a"
      },
      "source": [
        "a <- c('a','b','c','d','e','f')\n",
        "print(a)\n",
        "class(a)\n",
        "summary(a)\n",
        "b <- factor(a)\n",
        "print(b)\n",
        "class(b)\n",
        "summary(b)"
      ],
      "execution_count": null,
      "outputs": [
        {
          "output_type": "stream",
          "text": [
            "[1] \"a\" \"b\" \"c\" \"d\" \"e\" \"f\"\n"
          ],
          "name": "stdout"
        },
        {
          "output_type": "display_data",
          "data": {
            "text/html": [
              "'character'"
            ],
            "text/latex": "'character'",
            "text/markdown": "'character'",
            "text/plain": [
              "[1] \"character\""
            ]
          },
          "metadata": {
            "tags": []
          }
        },
        {
          "output_type": "display_data",
          "data": {
            "text/plain": [
              "   Length     Class      Mode \n",
              "        6 character character "
            ]
          },
          "metadata": {
            "tags": []
          }
        },
        {
          "output_type": "stream",
          "text": [
            "[1] a b c d e f\n",
            "Levels: a b c d e f\n"
          ],
          "name": "stdout"
        },
        {
          "output_type": "display_data",
          "data": {
            "text/html": [
              "'factor'"
            ],
            "text/latex": "'factor'",
            "text/markdown": "'factor'",
            "text/plain": [
              "[1] \"factor\""
            ]
          },
          "metadata": {
            "tags": []
          }
        },
        {
          "output_type": "display_data",
          "data": {
            "text/html": [
              "<dl class=dl-horizontal>\n",
              "\t<dt>a</dt>\n",
              "\t\t<dd>1</dd>\n",
              "\t<dt>b</dt>\n",
              "\t\t<dd>1</dd>\n",
              "\t<dt>c</dt>\n",
              "\t\t<dd>1</dd>\n",
              "\t<dt>d</dt>\n",
              "\t\t<dd>1</dd>\n",
              "\t<dt>e</dt>\n",
              "\t\t<dd>1</dd>\n",
              "\t<dt>f</dt>\n",
              "\t\t<dd>1</dd>\n",
              "</dl>\n"
            ],
            "text/latex": "\\begin{description*}\n\\item[a] 1\n\\item[b] 1\n\\item[c] 1\n\\item[d] 1\n\\item[e] 1\n\\item[f] 1\n\\end{description*}\n",
            "text/markdown": "a\n:   1b\n:   1c\n:   1d\n:   1e\n:   1f\n:   1\n\n",
            "text/plain": [
              "a b c d e f \n",
              "1 1 1 1 1 1 "
            ]
          },
          "metadata": {
            "tags": []
          }
        }
      ]
    },
    {
      "cell_type": "markdown",
      "metadata": {
        "id": "8PiQODscK5Fd"
      },
      "source": [
        "### Operații\n",
        "Operațiile în interiorul R sunt asemănătoare celor din limbaje obișnuite, dar în același timp există și operații vectoriale, precum în MatLab / Octave.\n",
        "\n",
        "#### Operații simple"
      ]
    },
    {
      "cell_type": "code",
      "metadata": {
        "id": "a4BbGYfyK5Fe",
        "outputId": "2d06fcf0-cd4f-494c-8b3c-f34cdf393330"
      },
      "source": [
        "a <- 1\n",
        "b <- 2\n",
        "a+b\n",
        "a/b\n",
        "a%%b\n",
        "a-b\n",
        "a*b\n",
        "a<b\n",
        "a==b\n",
        "a>b"
      ],
      "execution_count": null,
      "outputs": [
        {
          "output_type": "display_data",
          "data": {
            "text/html": [
              "3"
            ],
            "text/latex": "3",
            "text/markdown": "3",
            "text/plain": [
              "[1] 3"
            ]
          },
          "metadata": {
            "tags": []
          }
        },
        {
          "output_type": "display_data",
          "data": {
            "text/html": [
              "0.5"
            ],
            "text/latex": "0.5",
            "text/markdown": "0.5",
            "text/plain": [
              "[1] 0.5"
            ]
          },
          "metadata": {
            "tags": []
          }
        },
        {
          "output_type": "display_data",
          "data": {
            "text/html": [
              "1"
            ],
            "text/latex": "1",
            "text/markdown": "1",
            "text/plain": [
              "[1] 1"
            ]
          },
          "metadata": {
            "tags": []
          }
        },
        {
          "output_type": "display_data",
          "data": {
            "text/html": [
              "-1"
            ],
            "text/latex": "-1",
            "text/markdown": "-1",
            "text/plain": [
              "[1] -1"
            ]
          },
          "metadata": {
            "tags": []
          }
        },
        {
          "output_type": "display_data",
          "data": {
            "text/html": [
              "2"
            ],
            "text/latex": "2",
            "text/markdown": "2",
            "text/plain": [
              "[1] 2"
            ]
          },
          "metadata": {
            "tags": []
          }
        },
        {
          "output_type": "display_data",
          "data": {
            "text/html": [
              "TRUE"
            ],
            "text/latex": "TRUE",
            "text/markdown": "TRUE",
            "text/plain": [
              "[1] TRUE"
            ]
          },
          "metadata": {
            "tags": []
          }
        },
        {
          "output_type": "display_data",
          "data": {
            "text/html": [
              "FALSE"
            ],
            "text/latex": "FALSE",
            "text/markdown": "FALSE",
            "text/plain": [
              "[1] FALSE"
            ]
          },
          "metadata": {
            "tags": []
          }
        },
        {
          "output_type": "display_data",
          "data": {
            "text/html": [
              "FALSE"
            ],
            "text/latex": "FALSE",
            "text/markdown": "FALSE",
            "text/plain": [
              "[1] FALSE"
            ]
          },
          "metadata": {
            "tags": []
          }
        }
      ]
    },
    {
      "cell_type": "markdown",
      "metadata": {
        "id": "TSkarpHbK5Fg"
      },
      "source": [
        "#### Operații vectoriale"
      ]
    },
    {
      "cell_type": "code",
      "metadata": {
        "id": "ZXZU-92fK5Fh",
        "outputId": "a2b4472d-6f1c-4e30-810b-f0d927fff05a"
      },
      "source": [
        "1:6\n",
        "a <- c(1,2,3)\n",
        "b <- c(4,5,6)\n",
        "a+b\n",
        "a/b\n",
        "a%%b\n",
        "a-b\n",
        "a*b\n",
        "a*3\n",
        "a<b\n",
        "a==b\n",
        "a>b\n",
        "a <- matrix(1:6,nrow=2,ncol=3)\n",
        "b <- matrix(11:6,nrow=2,ncol=3)\n",
        "a+b\n",
        "a/b\n",
        "a%%b\n",
        "a-b\n",
        "a*b\n",
        "a*4\n",
        "a<b\n",
        "a==b\n",
        "a>b\n",
        "a <- matrix(c(1:4),nrow=2,ncol=2)\n",
        "b <- matrix(c(7:10),nrow=2,ncol=2)\n",
        "a%*%b"
      ],
      "execution_count": null,
      "outputs": [
        {
          "output_type": "display_data",
          "data": {
            "text/html": [
              "<ol class=list-inline>\n",
              "\t<li>1</li>\n",
              "\t<li>2</li>\n",
              "\t<li>3</li>\n",
              "\t<li>4</li>\n",
              "\t<li>5</li>\n",
              "\t<li>6</li>\n",
              "</ol>\n"
            ],
            "text/latex": "\\begin{enumerate*}\n\\item 1\n\\item 2\n\\item 3\n\\item 4\n\\item 5\n\\item 6\n\\end{enumerate*}\n",
            "text/markdown": "1. 1\n2. 2\n3. 3\n4. 4\n5. 5\n6. 6\n\n\n",
            "text/plain": [
              "[1] 1 2 3 4 5 6"
            ]
          },
          "metadata": {
            "tags": []
          }
        },
        {
          "output_type": "display_data",
          "data": {
            "text/html": [
              "<ol class=list-inline>\n",
              "\t<li>5</li>\n",
              "\t<li>7</li>\n",
              "\t<li>9</li>\n",
              "</ol>\n"
            ],
            "text/latex": "\\begin{enumerate*}\n\\item 5\n\\item 7\n\\item 9\n\\end{enumerate*}\n",
            "text/markdown": "1. 5\n2. 7\n3. 9\n\n\n",
            "text/plain": [
              "[1] 5 7 9"
            ]
          },
          "metadata": {
            "tags": []
          }
        },
        {
          "output_type": "display_data",
          "data": {
            "text/html": [
              "<ol class=list-inline>\n",
              "\t<li>0.25</li>\n",
              "\t<li>0.4</li>\n",
              "\t<li>0.5</li>\n",
              "</ol>\n"
            ],
            "text/latex": "\\begin{enumerate*}\n\\item 0.25\n\\item 0.4\n\\item 0.5\n\\end{enumerate*}\n",
            "text/markdown": "1. 0.25\n2. 0.4\n3. 0.5\n\n\n",
            "text/plain": [
              "[1] 0.25 0.40 0.50"
            ]
          },
          "metadata": {
            "tags": []
          }
        },
        {
          "output_type": "display_data",
          "data": {
            "text/html": [
              "<ol class=list-inline>\n",
              "\t<li>1</li>\n",
              "\t<li>2</li>\n",
              "\t<li>3</li>\n",
              "</ol>\n"
            ],
            "text/latex": "\\begin{enumerate*}\n\\item 1\n\\item 2\n\\item 3\n\\end{enumerate*}\n",
            "text/markdown": "1. 1\n2. 2\n3. 3\n\n\n",
            "text/plain": [
              "[1] 1 2 3"
            ]
          },
          "metadata": {
            "tags": []
          }
        },
        {
          "output_type": "display_data",
          "data": {
            "text/html": [
              "<ol class=list-inline>\n",
              "\t<li>-3</li>\n",
              "\t<li>-3</li>\n",
              "\t<li>-3</li>\n",
              "</ol>\n"
            ],
            "text/latex": "\\begin{enumerate*}\n\\item -3\n\\item -3\n\\item -3\n\\end{enumerate*}\n",
            "text/markdown": "1. -3\n2. -3\n3. -3\n\n\n",
            "text/plain": [
              "[1] -3 -3 -3"
            ]
          },
          "metadata": {
            "tags": []
          }
        },
        {
          "output_type": "display_data",
          "data": {
            "text/html": [
              "<ol class=list-inline>\n",
              "\t<li>4</li>\n",
              "\t<li>10</li>\n",
              "\t<li>18</li>\n",
              "</ol>\n"
            ],
            "text/latex": "\\begin{enumerate*}\n\\item 4\n\\item 10\n\\item 18\n\\end{enumerate*}\n",
            "text/markdown": "1. 4\n2. 10\n3. 18\n\n\n",
            "text/plain": [
              "[1]  4 10 18"
            ]
          },
          "metadata": {
            "tags": []
          }
        },
        {
          "output_type": "display_data",
          "data": {
            "text/html": [
              "<ol class=list-inline>\n",
              "\t<li>3</li>\n",
              "\t<li>6</li>\n",
              "\t<li>9</li>\n",
              "</ol>\n"
            ],
            "text/latex": "\\begin{enumerate*}\n\\item 3\n\\item 6\n\\item 9\n\\end{enumerate*}\n",
            "text/markdown": "1. 3\n2. 6\n3. 9\n\n\n",
            "text/plain": [
              "[1] 3 6 9"
            ]
          },
          "metadata": {
            "tags": []
          }
        },
        {
          "output_type": "display_data",
          "data": {
            "text/html": [
              "<ol class=list-inline>\n",
              "\t<li>TRUE</li>\n",
              "\t<li>TRUE</li>\n",
              "\t<li>TRUE</li>\n",
              "</ol>\n"
            ],
            "text/latex": "\\begin{enumerate*}\n\\item TRUE\n\\item TRUE\n\\item TRUE\n\\end{enumerate*}\n",
            "text/markdown": "1. TRUE\n2. TRUE\n3. TRUE\n\n\n",
            "text/plain": [
              "[1] TRUE TRUE TRUE"
            ]
          },
          "metadata": {
            "tags": []
          }
        },
        {
          "output_type": "display_data",
          "data": {
            "text/html": [
              "<ol class=list-inline>\n",
              "\t<li>FALSE</li>\n",
              "\t<li>FALSE</li>\n",
              "\t<li>FALSE</li>\n",
              "</ol>\n"
            ],
            "text/latex": "\\begin{enumerate*}\n\\item FALSE\n\\item FALSE\n\\item FALSE\n\\end{enumerate*}\n",
            "text/markdown": "1. FALSE\n2. FALSE\n3. FALSE\n\n\n",
            "text/plain": [
              "[1] FALSE FALSE FALSE"
            ]
          },
          "metadata": {
            "tags": []
          }
        },
        {
          "output_type": "display_data",
          "data": {
            "text/html": [
              "<ol class=list-inline>\n",
              "\t<li>FALSE</li>\n",
              "\t<li>FALSE</li>\n",
              "\t<li>FALSE</li>\n",
              "</ol>\n"
            ],
            "text/latex": "\\begin{enumerate*}\n\\item FALSE\n\\item FALSE\n\\item FALSE\n\\end{enumerate*}\n",
            "text/markdown": "1. FALSE\n2. FALSE\n3. FALSE\n\n\n",
            "text/plain": [
              "[1] FALSE FALSE FALSE"
            ]
          },
          "metadata": {
            "tags": []
          }
        },
        {
          "output_type": "display_data",
          "data": {
            "text/html": [
              "<table>\n",
              "<tbody>\n",
              "\t<tr><td>12</td><td>12</td><td>12</td></tr>\n",
              "\t<tr><td>12</td><td>12</td><td>12</td></tr>\n",
              "</tbody>\n",
              "</table>\n"
            ],
            "text/latex": "\\begin{tabular}{lll}\n\t 12 & 12 & 12\\\\\n\t 12 & 12 & 12\\\\\n\\end{tabular}\n",
            "text/markdown": "\n| 12 | 12 | 12 | \n| 12 | 12 | 12 | \n\n\n",
            "text/plain": [
              "     [,1] [,2] [,3]\n",
              "[1,] 12   12   12  \n",
              "[2,] 12   12   12  "
            ]
          },
          "metadata": {
            "tags": []
          }
        },
        {
          "output_type": "display_data",
          "data": {
            "text/html": [
              "<table>\n",
              "<tbody>\n",
              "\t<tr><td>0.09090909</td><td>0.3333333 </td><td>0.7142857 </td></tr>\n",
              "\t<tr><td>0.20000000</td><td>0.5000000 </td><td>1.0000000 </td></tr>\n",
              "</tbody>\n",
              "</table>\n"
            ],
            "text/latex": "\\begin{tabular}{lll}\n\t 0.09090909 & 0.3333333  & 0.7142857 \\\\\n\t 0.20000000 & 0.5000000  & 1.0000000 \\\\\n\\end{tabular}\n",
            "text/markdown": "\n| 0.09090909 | 0.3333333  | 0.7142857  | \n| 0.20000000 | 0.5000000  | 1.0000000  | \n\n\n",
            "text/plain": [
              "     [,1]       [,2]      [,3]     \n",
              "[1,] 0.09090909 0.3333333 0.7142857\n",
              "[2,] 0.20000000 0.5000000 1.0000000"
            ]
          },
          "metadata": {
            "tags": []
          }
        },
        {
          "output_type": "display_data",
          "data": {
            "text/html": [
              "<table>\n",
              "<tbody>\n",
              "\t<tr><td>1</td><td>3</td><td>5</td></tr>\n",
              "\t<tr><td>2</td><td>4</td><td>0</td></tr>\n",
              "</tbody>\n",
              "</table>\n"
            ],
            "text/latex": "\\begin{tabular}{lll}\n\t 1 & 3 & 5\\\\\n\t 2 & 4 & 0\\\\\n\\end{tabular}\n",
            "text/markdown": "\n| 1 | 3 | 5 | \n| 2 | 4 | 0 | \n\n\n",
            "text/plain": [
              "     [,1] [,2] [,3]\n",
              "[1,] 1    3    5   \n",
              "[2,] 2    4    0   "
            ]
          },
          "metadata": {
            "tags": []
          }
        },
        {
          "output_type": "display_data",
          "data": {
            "text/html": [
              "<table>\n",
              "<tbody>\n",
              "\t<tr><td>-10</td><td>-6 </td><td>-2 </td></tr>\n",
              "\t<tr><td> -8</td><td>-4 </td><td> 0 </td></tr>\n",
              "</tbody>\n",
              "</table>\n"
            ],
            "text/latex": "\\begin{tabular}{lll}\n\t -10 & -6  & -2 \\\\\n\t  -8 & -4  &  0 \\\\\n\\end{tabular}\n",
            "text/markdown": "\n| -10 | -6  | -2  | \n|  -8 | -4  |  0  | \n\n\n",
            "text/plain": [
              "     [,1] [,2] [,3]\n",
              "[1,] -10  -6   -2  \n",
              "[2,]  -8  -4    0  "
            ]
          },
          "metadata": {
            "tags": []
          }
        },
        {
          "output_type": "display_data",
          "data": {
            "text/html": [
              "<table>\n",
              "<tbody>\n",
              "\t<tr><td>11</td><td>27</td><td>35</td></tr>\n",
              "\t<tr><td>20</td><td>32</td><td>36</td></tr>\n",
              "</tbody>\n",
              "</table>\n"
            ],
            "text/latex": "\\begin{tabular}{lll}\n\t 11 & 27 & 35\\\\\n\t 20 & 32 & 36\\\\\n\\end{tabular}\n",
            "text/markdown": "\n| 11 | 27 | 35 | \n| 20 | 32 | 36 | \n\n\n",
            "text/plain": [
              "     [,1] [,2] [,3]\n",
              "[1,] 11   27   35  \n",
              "[2,] 20   32   36  "
            ]
          },
          "metadata": {
            "tags": []
          }
        },
        {
          "output_type": "display_data",
          "data": {
            "text/html": [
              "<table>\n",
              "<tbody>\n",
              "\t<tr><td>4 </td><td>12</td><td>20</td></tr>\n",
              "\t<tr><td>8 </td><td>16</td><td>24</td></tr>\n",
              "</tbody>\n",
              "</table>\n"
            ],
            "text/latex": "\\begin{tabular}{lll}\n\t 4  & 12 & 20\\\\\n\t 8  & 16 & 24\\\\\n\\end{tabular}\n",
            "text/markdown": "\n| 4  | 12 | 20 | \n| 8  | 16 | 24 | \n\n\n",
            "text/plain": [
              "     [,1] [,2] [,3]\n",
              "[1,] 4    12   20  \n",
              "[2,] 8    16   24  "
            ]
          },
          "metadata": {
            "tags": []
          }
        },
        {
          "output_type": "display_data",
          "data": {
            "text/html": [
              "<table>\n",
              "<tbody>\n",
              "\t<tr><td>TRUE </td><td>TRUE </td><td> TRUE</td></tr>\n",
              "\t<tr><td>TRUE </td><td>TRUE </td><td>FALSE</td></tr>\n",
              "</tbody>\n",
              "</table>\n"
            ],
            "text/latex": "\\begin{tabular}{lll}\n\t TRUE  & TRUE  &  TRUE\\\\\n\t TRUE  & TRUE  & FALSE\\\\\n\\end{tabular}\n",
            "text/markdown": "\n| TRUE  | TRUE  |  TRUE | \n| TRUE  | TRUE  | FALSE | \n\n\n",
            "text/plain": [
              "     [,1] [,2] [,3] \n",
              "[1,] TRUE TRUE  TRUE\n",
              "[2,] TRUE TRUE FALSE"
            ]
          },
          "metadata": {
            "tags": []
          }
        },
        {
          "output_type": "display_data",
          "data": {
            "text/html": [
              "<table>\n",
              "<tbody>\n",
              "\t<tr><td>FALSE</td><td>FALSE</td><td>FALSE</td></tr>\n",
              "\t<tr><td>FALSE</td><td>FALSE</td><td> TRUE</td></tr>\n",
              "</tbody>\n",
              "</table>\n"
            ],
            "text/latex": "\\begin{tabular}{lll}\n\t FALSE & FALSE & FALSE\\\\\n\t FALSE & FALSE &  TRUE\\\\\n\\end{tabular}\n",
            "text/markdown": "\n| FALSE | FALSE | FALSE | \n| FALSE | FALSE |  TRUE | \n\n\n",
            "text/plain": [
              "     [,1]  [,2]  [,3] \n",
              "[1,] FALSE FALSE FALSE\n",
              "[2,] FALSE FALSE  TRUE"
            ]
          },
          "metadata": {
            "tags": []
          }
        },
        {
          "output_type": "display_data",
          "data": {
            "text/html": [
              "<table>\n",
              "<tbody>\n",
              "\t<tr><td>FALSE</td><td>FALSE</td><td>FALSE</td></tr>\n",
              "\t<tr><td>FALSE</td><td>FALSE</td><td>FALSE</td></tr>\n",
              "</tbody>\n",
              "</table>\n"
            ],
            "text/latex": "\\begin{tabular}{lll}\n\t FALSE & FALSE & FALSE\\\\\n\t FALSE & FALSE & FALSE\\\\\n\\end{tabular}\n",
            "text/markdown": "\n| FALSE | FALSE | FALSE | \n| FALSE | FALSE | FALSE | \n\n\n",
            "text/plain": [
              "     [,1]  [,2]  [,3] \n",
              "[1,] FALSE FALSE FALSE\n",
              "[2,] FALSE FALSE FALSE"
            ]
          },
          "metadata": {
            "tags": []
          }
        },
        {
          "output_type": "display_data",
          "data": {
            "text/html": [
              "<table>\n",
              "<tbody>\n",
              "\t<tr><td>31</td><td>39</td></tr>\n",
              "\t<tr><td>46</td><td>58</td></tr>\n",
              "</tbody>\n",
              "</table>\n"
            ],
            "text/latex": "\\begin{tabular}{ll}\n\t 31 & 39\\\\\n\t 46 & 58\\\\\n\\end{tabular}\n",
            "text/markdown": "\n| 31 | 39 | \n| 46 | 58 | \n\n\n",
            "text/plain": [
              "     [,1] [,2]\n",
              "[1,] 31   39  \n",
              "[2,] 46   58  "
            ]
          },
          "metadata": {
            "tags": []
          }
        }
      ]
    },
    {
      "cell_type": "markdown",
      "metadata": {
        "id": "lV_RXwZPK5Fn"
      },
      "source": [
        "### Selectie\n",
        "\n",
        "Un lucru important în știința datelor este selectarea unor fragmente din date. Pentru aceasta, exista diferiti operatori."
      ]
    },
    {
      "cell_type": "code",
      "metadata": {
        "id": "wksBb2E_K5Fo"
      },
      "source": [
        "?summary"
      ],
      "execution_count": null,
      "outputs": []
    },
    {
      "cell_type": "markdown",
      "metadata": {
        "id": "4Y8_33YRK5Fq"
      },
      "source": [
        "#### Operatorul []\n",
        "Operatorul $[]$ returnează un subset conform condițiilor din interior, având aceeași clasă ca obiectul inițial."
      ]
    },
    {
      "cell_type": "code",
      "metadata": {
        "id": "QG-dfEFvK5Fr",
        "outputId": "965870e2-9493-462b-af26-3dac65139130"
      },
      "source": [
        "a <- list('a',1,'c',4,'e',6)\n",
        "print(a[1])\n",
        "class(a[1])\n",
        "summary(a[1])"
      ],
      "execution_count": null,
      "outputs": [
        {
          "output_type": "stream",
          "text": [
            "[[1]]\n",
            "[1] \"a\"\n",
            "\n"
          ],
          "name": "stdout"
        },
        {
          "output_type": "display_data",
          "data": {
            "text/html": [
              "'list'"
            ],
            "text/latex": "'list'",
            "text/markdown": "'list'",
            "text/plain": [
              "[1] \"list\""
            ]
          },
          "metadata": {
            "tags": []
          }
        },
        {
          "output_type": "display_data",
          "data": {
            "text/plain": [
              "     Length Class  Mode     \n",
              "[1,] 1      -none- character"
            ]
          },
          "metadata": {
            "tags": []
          }
        }
      ]
    },
    {
      "cell_type": "markdown",
      "metadata": {
        "id": "aCltxcsmK5Ft"
      },
      "source": [
        "Se pot folosi indecși negativi care reprezintă indecsii elementelor care nu vor fi luate în considerare"
      ]
    },
    {
      "cell_type": "code",
      "metadata": {
        "id": "KmLJoAfZK5Ft",
        "outputId": "4dce763b-332b-499d-81c1-889e2919c9cd"
      },
      "source": [
        "a <- list('a',1,'c',4,'e',6)\n",
        "print(a[-1])"
      ],
      "execution_count": null,
      "outputs": [
        {
          "output_type": "stream",
          "text": [
            "[[1]]\n",
            "[1] 1\n",
            "\n",
            "[[2]]\n",
            "[1] \"c\"\n",
            "\n",
            "[[3]]\n",
            "[1] 4\n",
            "\n",
            "[[4]]\n",
            "[1] \"e\"\n",
            "\n",
            "[[5]]\n",
            "[1] 6\n",
            "\n"
          ],
          "name": "stdout"
        }
      ]
    },
    {
      "cell_type": "markdown",
      "metadata": {
        "id": "E7EU0AoFK5Fw"
      },
      "source": [
        "#### Operatorul [[]] și $\\$$\n",
        "Operatorii $[[]]$ și $\\$$ sunt asemănători cu operatorul $[]$, dar in acest caz valoarea de return va avea clasa elementului."
      ]
    },
    {
      "cell_type": "code",
      "metadata": {
        "id": "2gbsn3gJK5Fx",
        "outputId": "03edc6a3-3782-485f-ca7e-aea74810a8a1"
      },
      "source": [
        "a <- list('a',1,'c',4,'e',6)\n",
        "print(a[[1]])\n",
        "class(a[[1]])\n",
        "summary(a[[1]])"
      ],
      "execution_count": null,
      "outputs": [
        {
          "output_type": "stream",
          "text": [
            "[1] \"a\"\n"
          ],
          "name": "stdout"
        },
        {
          "output_type": "display_data",
          "data": {
            "text/html": [
              "'character'"
            ],
            "text/latex": "'character'",
            "text/markdown": "'character'",
            "text/plain": [
              "[1] \"character\""
            ]
          },
          "metadata": {
            "tags": []
          }
        },
        {
          "output_type": "display_data",
          "data": {
            "text/plain": [
              "   Length     Class      Mode \n",
              "        1 character character "
            ]
          },
          "metadata": {
            "tags": []
          }
        }
      ]
    },
    {
      "cell_type": "markdown",
      "metadata": {
        "id": "w0D1YStdK5Fz"
      },
      "source": [
        "#### Subnetare Logică\n",
        "În mod implicit condiția din interiorul operatorilor se referă la indecși selectați, dar în același timp poate fi un vector de elemente logice"
      ]
    },
    {
      "cell_type": "code",
      "metadata": {
        "id": "TCoBvl-RK5Fz",
        "outputId": "58d323b8-201f-4a0a-f6ab-9c62c93c8557"
      },
      "source": [
        "a <- 1:6\n",
        "print(a[a<3])\n",
        "a <- 6:1\n",
        "print(a)\n",
        "print(sort(a))\n",
        "print(order(a))\n",
        "print(a[order(a)])"
      ],
      "execution_count": null,
      "outputs": [
        {
          "output_type": "stream",
          "text": [
            "[1] 1 2\n",
            "[1] 6 5 4 3 2 1\n",
            "[1] 1 2 3 4 5 6\n",
            "[1] 6 5 4 3 2 1\n",
            "[1] 1 2 3 4 5 6\n"
          ],
          "name": "stdout"
        }
      ]
    },
    {
      "cell_type": "markdown",
      "metadata": {
        "id": "eixpTsUnK5F2"
      },
      "source": [
        "#### NA/NAN/Inf\n",
        "În R există anumite valori speciale pe care nu dorim să le considerăm în operațiile noastre asupra datelor."
      ]
    },
    {
      "cell_type": "code",
      "metadata": {
        "id": "pkEvYGLlK5F2",
        "outputId": "6899eec9-c25f-4f9f-d10d-45a86a615079"
      },
      "source": [
        "a <- list('a',1,3,NA,NaN,Inf)\n",
        "b <- c(5,1,3,NA,NaN,Inf)\n",
        "d <- c('a',1,3,NA,NaN,Inf)\n",
        "print(a)\n",
        "0/0\n",
        "Inf-Inf\n",
        "NA + 1\n",
        "NA * 0\n",
        "NaN * 0\n",
        "Inf * 0\n",
        "NA==NaN\n",
        "is.na(a)\n",
        "is.nan(b)\n",
        "is.infinite(b)\n",
        "is.nan(d)\n",
        "is.infinite(d)\n",
        "is.nan(NaN)\n",
        "is.infinite(Inf)"
      ],
      "execution_count": null,
      "outputs": [
        {
          "output_type": "stream",
          "text": [
            "[[1]]\n",
            "[1] \"a\"\n",
            "\n",
            "[[2]]\n",
            "[1] 1\n",
            "\n",
            "[[3]]\n",
            "[1] 3\n",
            "\n",
            "[[4]]\n",
            "[1] NA\n",
            "\n",
            "[[5]]\n",
            "[1] NaN\n",
            "\n",
            "[[6]]\n",
            "[1] Inf\n",
            "\n"
          ],
          "name": "stdout"
        },
        {
          "output_type": "display_data",
          "data": {
            "text/html": [
              "NaN"
            ],
            "text/latex": "NaN",
            "text/markdown": "NaN",
            "text/plain": [
              "[1] NaN"
            ]
          },
          "metadata": {
            "tags": []
          }
        },
        {
          "output_type": "display_data",
          "data": {
            "text/html": [
              "NaN"
            ],
            "text/latex": "NaN",
            "text/markdown": "NaN",
            "text/plain": [
              "[1] NaN"
            ]
          },
          "metadata": {
            "tags": []
          }
        },
        {
          "output_type": "display_data",
          "data": {
            "text/plain": [
              "[1] NA"
            ]
          },
          "metadata": {
            "tags": []
          }
        },
        {
          "output_type": "display_data",
          "data": {
            "text/plain": [
              "[1] NA"
            ]
          },
          "metadata": {
            "tags": []
          }
        },
        {
          "output_type": "display_data",
          "data": {
            "text/html": [
              "NaN"
            ],
            "text/latex": "NaN",
            "text/markdown": "NaN",
            "text/plain": [
              "[1] NaN"
            ]
          },
          "metadata": {
            "tags": []
          }
        },
        {
          "output_type": "display_data",
          "data": {
            "text/html": [
              "NaN"
            ],
            "text/latex": "NaN",
            "text/markdown": "NaN",
            "text/plain": [
              "[1] NaN"
            ]
          },
          "metadata": {
            "tags": []
          }
        },
        {
          "output_type": "display_data",
          "data": {
            "text/plain": [
              "[1] NA"
            ]
          },
          "metadata": {
            "tags": []
          }
        },
        {
          "output_type": "display_data",
          "data": {
            "text/html": [
              "<ol class=list-inline>\n",
              "\t<li>FALSE</li>\n",
              "\t<li>FALSE</li>\n",
              "\t<li>FALSE</li>\n",
              "\t<li>TRUE</li>\n",
              "\t<li>TRUE</li>\n",
              "\t<li>FALSE</li>\n",
              "</ol>\n"
            ],
            "text/latex": "\\begin{enumerate*}\n\\item FALSE\n\\item FALSE\n\\item FALSE\n\\item TRUE\n\\item TRUE\n\\item FALSE\n\\end{enumerate*}\n",
            "text/markdown": "1. FALSE\n2. FALSE\n3. FALSE\n4. TRUE\n5. TRUE\n6. FALSE\n\n\n",
            "text/plain": [
              "[1] FALSE FALSE FALSE  TRUE  TRUE FALSE"
            ]
          },
          "metadata": {
            "tags": []
          }
        },
        {
          "output_type": "display_data",
          "data": {
            "text/html": [
              "<ol class=list-inline>\n",
              "\t<li>FALSE</li>\n",
              "\t<li>FALSE</li>\n",
              "\t<li>FALSE</li>\n",
              "\t<li>FALSE</li>\n",
              "\t<li>TRUE</li>\n",
              "\t<li>FALSE</li>\n",
              "</ol>\n"
            ],
            "text/latex": "\\begin{enumerate*}\n\\item FALSE\n\\item FALSE\n\\item FALSE\n\\item FALSE\n\\item TRUE\n\\item FALSE\n\\end{enumerate*}\n",
            "text/markdown": "1. FALSE\n2. FALSE\n3. FALSE\n4. FALSE\n5. TRUE\n6. FALSE\n\n\n",
            "text/plain": [
              "[1] FALSE FALSE FALSE FALSE  TRUE FALSE"
            ]
          },
          "metadata": {
            "tags": []
          }
        },
        {
          "output_type": "display_data",
          "data": {
            "text/html": [
              "<ol class=list-inline>\n",
              "\t<li>FALSE</li>\n",
              "\t<li>FALSE</li>\n",
              "\t<li>FALSE</li>\n",
              "\t<li>FALSE</li>\n",
              "\t<li>FALSE</li>\n",
              "\t<li>TRUE</li>\n",
              "</ol>\n"
            ],
            "text/latex": "\\begin{enumerate*}\n\\item FALSE\n\\item FALSE\n\\item FALSE\n\\item FALSE\n\\item FALSE\n\\item TRUE\n\\end{enumerate*}\n",
            "text/markdown": "1. FALSE\n2. FALSE\n3. FALSE\n4. FALSE\n5. FALSE\n6. TRUE\n\n\n",
            "text/plain": [
              "[1] FALSE FALSE FALSE FALSE FALSE  TRUE"
            ]
          },
          "metadata": {
            "tags": []
          }
        },
        {
          "output_type": "display_data",
          "data": {
            "text/html": [
              "<ol class=list-inline>\n",
              "\t<li>FALSE</li>\n",
              "\t<li>FALSE</li>\n",
              "\t<li>FALSE</li>\n",
              "\t<li>FALSE</li>\n",
              "\t<li>FALSE</li>\n",
              "\t<li>FALSE</li>\n",
              "</ol>\n"
            ],
            "text/latex": "\\begin{enumerate*}\n\\item FALSE\n\\item FALSE\n\\item FALSE\n\\item FALSE\n\\item FALSE\n\\item FALSE\n\\end{enumerate*}\n",
            "text/markdown": "1. FALSE\n2. FALSE\n3. FALSE\n4. FALSE\n5. FALSE\n6. FALSE\n\n\n",
            "text/plain": [
              "[1] FALSE FALSE FALSE FALSE FALSE FALSE"
            ]
          },
          "metadata": {
            "tags": []
          }
        },
        {
          "output_type": "display_data",
          "data": {
            "text/html": [
              "<ol class=list-inline>\n",
              "\t<li>FALSE</li>\n",
              "\t<li>FALSE</li>\n",
              "\t<li>FALSE</li>\n",
              "\t<li>FALSE</li>\n",
              "\t<li>FALSE</li>\n",
              "\t<li>FALSE</li>\n",
              "</ol>\n"
            ],
            "text/latex": "\\begin{enumerate*}\n\\item FALSE\n\\item FALSE\n\\item FALSE\n\\item FALSE\n\\item FALSE\n\\item FALSE\n\\end{enumerate*}\n",
            "text/markdown": "1. FALSE\n2. FALSE\n3. FALSE\n4. FALSE\n5. FALSE\n6. FALSE\n\n\n",
            "text/plain": [
              "[1] FALSE FALSE FALSE FALSE FALSE FALSE"
            ]
          },
          "metadata": {
            "tags": []
          }
        },
        {
          "output_type": "display_data",
          "data": {
            "text/html": [
              "TRUE"
            ],
            "text/latex": "TRUE",
            "text/markdown": "TRUE",
            "text/plain": [
              "[1] TRUE"
            ]
          },
          "metadata": {
            "tags": []
          }
        },
        {
          "output_type": "display_data",
          "data": {
            "text/html": [
              "TRUE"
            ],
            "text/latex": "TRUE",
            "text/markdown": "TRUE",
            "text/plain": [
              "[1] TRUE"
            ]
          },
          "metadata": {
            "tags": []
          }
        }
      ]
    },
    {
      "cell_type": "markdown",
      "metadata": {
        "id": "j3MbR06UK5F5"
      },
      "source": [
        "### Secvențe de Control\n",
        "Ca în majoritatea limbajelor R deține secvențe de control care nu sunt indicate spre utilizare\n",
        "doar ca ultim resort când nu putem folosi operații vectoriale sau funcții predefinite.\n",
        "#### IF\n",
        "if (condiție1) {} else if (condiție2) {} else {}"
      ]
    },
    {
      "cell_type": "code",
      "metadata": {
        "id": "vR3aE9NuK5F5",
        "outputId": "79093b29-13ff-4ffa-8313-4b948f50edd3"
      },
      "source": [
        "a <- 2\n",
        "if (a<1) {print(a*2)} else if (a>3) {print(a*3)} else {print(a/2)}"
      ],
      "execution_count": null,
      "outputs": [
        {
          "output_type": "stream",
          "text": [
            "[1] 1\n"
          ],
          "name": "stdout"
        }
      ]
    },
    {
      "cell_type": "markdown",
      "metadata": {
        "id": "RHfgdyvMK5F7"
      },
      "source": [
        "#### FOR\n",
        "for(x in X) {} – poate fi utilizat next"
      ]
    },
    {
      "cell_type": "code",
      "metadata": {
        "id": "ZSa7ofCkK5F8",
        "outputId": "c9f94f68-dd0a-44f2-edc8-2c77e63e07d2"
      },
      "source": [
        "a <- 1:6\n",
        "for(elem in a) {\n",
        "  if(elem<3) next\n",
        "  print(elem)\n",
        "}"
      ],
      "execution_count": null,
      "outputs": [
        {
          "output_type": "stream",
          "text": [
            "[1] 3\n",
            "[1] 4\n",
            "[1] 5\n",
            "[1] 6\n"
          ],
          "name": "stdout"
        }
      ]
    },
    {
      "cell_type": "code",
      "metadata": {
        "id": "RBlAO6xTK5F-",
        "outputId": "af84bb5b-ee42-414c-c11f-e78473b3e19f"
      },
      "source": [
        "for(elem in a) {\n",
        "  print(elem)\n",
        "}"
      ],
      "execution_count": null,
      "outputs": [
        {
          "output_type": "stream",
          "text": [
            "[1] 1\n",
            "[1] 2\n",
            "[1] 3\n",
            "[1] 4\n",
            "[1] 5\n",
            "[1] 6\n"
          ],
          "name": "stdout"
        }
      ]
    },
    {
      "cell_type": "code",
      "metadata": {
        "id": "4iUQdG9QK5GC",
        "outputId": "e182d75a-6e1e-4376-d757-24fc710f5ae2"
      },
      "source": [
        "for(elem in a) {\n",
        "  if(elem==3) break\n",
        "  print(elem)\n",
        "}"
      ],
      "execution_count": null,
      "outputs": [
        {
          "output_type": "stream",
          "text": [
            "[1] 1\n",
            "[1] 2\n"
          ],
          "name": "stdout"
        }
      ]
    },
    {
      "cell_type": "markdown",
      "metadata": {
        "id": "1QcuP35FK5GE"
      },
      "source": [
        "#### WHILE\n",
        "while(condiție1) {}"
      ]
    },
    {
      "cell_type": "code",
      "metadata": {
        "id": "EYGVzOvtK5GF",
        "outputId": "1988145b-d713-42f5-afa6-745219c9f4c4"
      },
      "source": [
        "a <- 2\n",
        "b <- 4\n",
        "while(a<b) {\n",
        "  a <- a+2\n",
        "  b <- b+1\n",
        "}\n",
        "print(a)"
      ],
      "execution_count": null,
      "outputs": [
        {
          "output_type": "stream",
          "text": [
            "[1] 6\n"
          ],
          "name": "stdout"
        }
      ]
    },
    {
      "cell_type": "markdown",
      "metadata": {
        "id": "HH3nZ-vkK5GG"
      },
      "source": [
        "#### REPEAT\n",
        "repeat {} – utilizare break"
      ]
    },
    {
      "cell_type": "code",
      "metadata": {
        "id": "YvIYG1B6K5GH",
        "outputId": "dc40e92b-a869-426b-a332-d13b4ea33dcb"
      },
      "source": [
        "a <- 2\n",
        "b <- 4\n",
        "repeat {\n",
        "  a <- a+2\n",
        "  b <- b+1\n",
        "  if(a>=b) {\n",
        "    break\n",
        "  }\n",
        "}\n",
        "print(a)"
      ],
      "execution_count": null,
      "outputs": [
        {
          "output_type": "stream",
          "text": [
            "[1] 6\n"
          ],
          "name": "stdout"
        }
      ]
    },
    {
      "cell_type": "markdown",
      "metadata": {
        "id": "sNjUCAHlK5GJ"
      },
      "source": [
        "### Funcții\n",
        "Un mod de a modulariza codulul este prin intermediul funcțiilor.\n",
        "\n",
        "#### Definitii ale funcțiilor"
      ]
    },
    {
      "cell_type": "code",
      "metadata": {
        "id": "MfJMjQdXK5GK",
        "outputId": "6c7f3447-0cc7-4603-f9fa-524e37ad4fce"
      },
      "source": [
        "my_sum <- function(a,b) {\n",
        "  a <- a+1\n",
        "  b <- b/2\n",
        "  a+b\n",
        "}\n",
        "my_sum(4,6)\n",
        "my_iter <- function(a,b) {\n",
        "  a <- a*2\n",
        "  a+3\n",
        "}\n",
        "my_iter(4)\n",
        "my_iter(4,5)"
      ],
      "execution_count": null,
      "outputs": [
        {
          "output_type": "display_data",
          "data": {
            "text/html": [
              "8"
            ],
            "text/latex": "8",
            "text/markdown": "8",
            "text/plain": [
              "[1] 8"
            ]
          },
          "metadata": {
            "tags": []
          }
        },
        {
          "output_type": "display_data",
          "data": {
            "text/html": [
              "11"
            ],
            "text/latex": "11",
            "text/markdown": "11",
            "text/plain": [
              "[1] 11"
            ]
          },
          "metadata": {
            "tags": []
          }
        },
        {
          "output_type": "display_data",
          "data": {
            "text/html": [
              "11"
            ],
            "text/latex": "11",
            "text/markdown": "11",
            "text/plain": [
              "[1] 11"
            ]
          },
          "metadata": {
            "tags": []
          }
        }
      ]
    },
    {
      "cell_type": "markdown",
      "metadata": {
        "id": "hvmsNOyRK5GM"
      },
      "source": [
        "Valori implicite."
      ]
    },
    {
      "cell_type": "code",
      "metadata": {
        "id": "lX7S2bwRK5GM",
        "outputId": "a81d2913-1eb9-4f6e-d239-9263a2213781"
      },
      "source": [
        "my_sum_2 <- function(a,b=2) {\n",
        "  a <- a+1\n",
        "  b <- b/2\n",
        "  a+b\n",
        "}\n",
        "my_sum_2(4)\n",
        "my_iter_2 <- function(a=3,b) {\n",
        "  a <- a*2\n",
        "  a+3\n",
        "}\n",
        "my_iter_2(4)\n",
        "my_iter_2(4,5)\n",
        "my_iter_2(b=4)\n",
        "formals(my_sum_2)"
      ],
      "execution_count": null,
      "outputs": [
        {
          "output_type": "display_data",
          "data": {
            "text/html": [
              "6"
            ],
            "text/latex": "6",
            "text/markdown": "6",
            "text/plain": [
              "[1] 6"
            ]
          },
          "metadata": {
            "tags": []
          }
        },
        {
          "output_type": "display_data",
          "data": {
            "text/html": [
              "11"
            ],
            "text/latex": "11",
            "text/markdown": "11",
            "text/plain": [
              "[1] 11"
            ]
          },
          "metadata": {
            "tags": []
          }
        },
        {
          "output_type": "display_data",
          "data": {
            "text/html": [
              "11"
            ],
            "text/latex": "11",
            "text/markdown": "11",
            "text/plain": [
              "[1] 11"
            ]
          },
          "metadata": {
            "tags": []
          }
        },
        {
          "output_type": "display_data",
          "data": {
            "text/html": [
              "9"
            ],
            "text/latex": "9",
            "text/markdown": "9",
            "text/plain": [
              "[1] 9"
            ]
          },
          "metadata": {
            "tags": []
          }
        },
        {
          "output_type": "display_data",
          "data": {
            "text/plain": [
              "$a\n",
              "\n",
              "\n",
              "$b\n",
              "[1] 2\n"
            ]
          },
          "metadata": {
            "tags": []
          }
        }
      ]
    },
    {
      "cell_type": "markdown",
      "metadata": {
        "id": "lo-jkvpAK5GP"
      },
      "source": [
        "Argumentul ... . "
      ]
    },
    {
      "cell_type": "code",
      "metadata": {
        "id": "AmHJ3ZZdK5GP",
        "outputId": "7386d863-b663-4834-c4fd-4d5b350bd9dc"
      },
      "source": [
        "my_sum_3 <- function(a,...) {\n",
        "  a <- a+1\n",
        "  b <- list(...)\n",
        "  print(b)\n",
        "  a + b[[1]]\n",
        "}\n",
        "my_sum_3(4,5,6,a=7,8)\n",
        "\n",
        "my_sum_4 <- function(..., a) {\n",
        "  a <- a+1\n",
        "  b <- list(...)\n",
        "  a + b[[1]]\n",
        "}\n",
        "my_sum_4(4,5,6,a=7,8)"
      ],
      "execution_count": null,
      "outputs": [
        {
          "output_type": "stream",
          "text": [
            "[[1]]\n",
            "[1] 4\n",
            "\n",
            "[[2]]\n",
            "[1] 5\n",
            "\n",
            "[[3]]\n",
            "[1] 6\n",
            "\n",
            "[[4]]\n",
            "[1] 8\n",
            "\n"
          ],
          "name": "stdout"
        },
        {
          "output_type": "display_data",
          "data": {
            "text/html": [
              "12"
            ],
            "text/latex": "12",
            "text/markdown": "12",
            "text/plain": [
              "[1] 12"
            ]
          },
          "metadata": {
            "tags": []
          }
        },
        {
          "output_type": "display_data",
          "data": {
            "text/html": [
              "12"
            ],
            "text/latex": "12",
            "text/markdown": "12",
            "text/plain": [
              "[1] 12"
            ]
          },
          "metadata": {
            "tags": []
          }
        }
      ]
    },
    {
      "cell_type": "markdown",
      "metadata": {
        "id": "4H_uvMh-K5GR"
      },
      "source": [
        "După parametrul ..., este recomandat să avem valori implicite."
      ]
    },
    {
      "cell_type": "code",
      "metadata": {
        "id": "kilmeLdCK5GR",
        "outputId": "c70b6389-06df-4970-fe62-5b62d6e25e29"
      },
      "source": [
        "my_sum_4 <- function(..., a=5) {\n",
        "  a <- a+1\n",
        "  b <- list(...)\n",
        "  a + b[[1]]\n",
        "}\n",
        "my_sum_4(4,5,6,a=7,8)\n",
        "my_sum_4(4,5,6,7,8)"
      ],
      "execution_count": null,
      "outputs": [
        {
          "output_type": "display_data",
          "data": {
            "text/html": [
              "12"
            ],
            "text/latex": "12",
            "text/markdown": "12",
            "text/plain": [
              "[1] 12"
            ]
          },
          "metadata": {
            "tags": []
          }
        },
        {
          "output_type": "display_data",
          "data": {
            "text/html": [
              "10"
            ],
            "text/latex": "10",
            "text/markdown": "10",
            "text/plain": [
              "[1] 10"
            ]
          },
          "metadata": {
            "tags": []
          }
        }
      ]
    },
    {
      "cell_type": "markdown",
      "metadata": {
        "id": "BvQkhxnZK5GT"
      },
      "source": [
        "#### Funcții predefinite"
      ]
    },
    {
      "cell_type": "code",
      "metadata": {
        "id": "5wh2x7LoK5GT",
        "outputId": "493b2327-1d4f-43b7-ec19-b5c88823e8ea"
      },
      "source": [
        "a <- 1:10\n",
        "max(a)\n",
        "sum(a)\n",
        "min(a)\n",
        "median(a)"
      ],
      "execution_count": null,
      "outputs": [
        {
          "output_type": "display_data",
          "data": {
            "text/html": [
              "10"
            ],
            "text/latex": "10",
            "text/markdown": "10",
            "text/plain": [
              "[1] 10"
            ]
          },
          "metadata": {
            "tags": []
          }
        },
        {
          "output_type": "display_data",
          "data": {
            "text/html": [
              "55"
            ],
            "text/latex": "55",
            "text/markdown": "55",
            "text/plain": [
              "[1] 55"
            ]
          },
          "metadata": {
            "tags": []
          }
        },
        {
          "output_type": "display_data",
          "data": {
            "text/html": [
              "1"
            ],
            "text/latex": "1",
            "text/markdown": "1",
            "text/plain": [
              "[1] 1"
            ]
          },
          "metadata": {
            "tags": []
          }
        },
        {
          "output_type": "display_data",
          "data": {
            "text/html": [
              "5.5"
            ],
            "text/latex": "5.5",
            "text/markdown": "5.5",
            "text/plain": [
              "[1] 5.5"
            ]
          },
          "metadata": {
            "tags": []
          }
        }
      ]
    },
    {
      "cell_type": "markdown",
      "metadata": {
        "id": "em11UXZkK5GV"
      },
      "source": [
        "#### Funcții iterative\n",
        "lapply(listă, funcție) – aplică funcția asupra fiecărui element al listei (returnează listă mereu)"
      ]
    },
    {
      "cell_type": "code",
      "metadata": {
        "id": "tsLt1f3VK5GW",
        "outputId": "a011b5f3-02b6-4243-85cc-a0a4cb0dd30b"
      },
      "source": [
        "iter <- function(a) {a+1}\n",
        "a <- list(1,2,3,4,5,6)\n",
        "print(a)\n",
        "lapply(a, iter)\n",
        "a <- list(1:6)\n",
        "print(a)\n",
        "lapply(a, iter)"
      ],
      "execution_count": null,
      "outputs": [
        {
          "output_type": "stream",
          "text": [
            "[[1]]\n",
            "[1] 1\n",
            "\n",
            "[[2]]\n",
            "[1] 2\n",
            "\n",
            "[[3]]\n",
            "[1] 3\n",
            "\n",
            "[[4]]\n",
            "[1] 4\n",
            "\n",
            "[[5]]\n",
            "[1] 5\n",
            "\n",
            "[[6]]\n",
            "[1] 6\n",
            "\n"
          ],
          "name": "stdout"
        },
        {
          "output_type": "display_data",
          "data": {
            "text/html": [
              "<ol>\n",
              "\t<li>2</li>\n",
              "\t<li>3</li>\n",
              "\t<li>4</li>\n",
              "\t<li>5</li>\n",
              "\t<li>6</li>\n",
              "\t<li>7</li>\n",
              "</ol>\n"
            ],
            "text/latex": "\\begin{enumerate}\n\\item 2\n\\item 3\n\\item 4\n\\item 5\n\\item 6\n\\item 7\n\\end{enumerate}\n",
            "text/markdown": "1. 2\n2. 3\n3. 4\n4. 5\n5. 6\n6. 7\n\n\n",
            "text/plain": [
              "[[1]]\n",
              "[1] 2\n",
              "\n",
              "[[2]]\n",
              "[1] 3\n",
              "\n",
              "[[3]]\n",
              "[1] 4\n",
              "\n",
              "[[4]]\n",
              "[1] 5\n",
              "\n",
              "[[5]]\n",
              "[1] 6\n",
              "\n",
              "[[6]]\n",
              "[1] 7\n"
            ]
          },
          "metadata": {
            "tags": []
          }
        },
        {
          "output_type": "stream",
          "text": [
            "[[1]]\n",
            "[1] 1 2 3 4 5 6\n",
            "\n"
          ],
          "name": "stdout"
        },
        {
          "output_type": "display_data",
          "data": {
            "text/html": [
              "<ol>\n",
              "\t<li><ol class=list-inline>\n",
              "\t<li>2</li>\n",
              "\t<li>3</li>\n",
              "\t<li>4</li>\n",
              "\t<li>5</li>\n",
              "\t<li>6</li>\n",
              "\t<li>7</li>\n",
              "</ol>\n",
              "</li>\n",
              "</ol>\n"
            ],
            "text/latex": "\\begin{enumerate}\n\\item \\begin{enumerate*}\n\\item 2\n\\item 3\n\\item 4\n\\item 5\n\\item 6\n\\item 7\n\\end{enumerate*}\n\n\\end{enumerate}\n",
            "text/markdown": "1. 1. 2\n2. 3\n3. 4\n4. 5\n5. 6\n6. 7\n\n\n\n\n\n",
            "text/plain": [
              "[[1]]\n",
              "[1] 2 3 4 5 6 7\n"
            ]
          },
          "metadata": {
            "tags": []
          }
        }
      ]
    },
    {
      "cell_type": "markdown",
      "metadata": {
        "id": "lLtXmy7PK5GZ"
      },
      "source": [
        "sapply(listă,funcție) – analog lapply, dar poate returna vector, matrice sau listă"
      ]
    },
    {
      "cell_type": "code",
      "metadata": {
        "id": "j4YRbCezK5GZ",
        "outputId": "b7c52744-e820-4cb4-934d-a6b17772e46a"
      },
      "source": [
        "a <- list(1,2,3,4,5,6)\n",
        "print(a)\n",
        "sapply(a, iter)\n",
        "a <- list(1:6)\n",
        "print(a)\n",
        "sapply(a, iter)"
      ],
      "execution_count": null,
      "outputs": [
        {
          "output_type": "stream",
          "text": [
            "[[1]]\n",
            "[1] 1\n",
            "\n",
            "[[2]]\n",
            "[1] 2\n",
            "\n",
            "[[3]]\n",
            "[1] 3\n",
            "\n",
            "[[4]]\n",
            "[1] 4\n",
            "\n",
            "[[5]]\n",
            "[1] 5\n",
            "\n",
            "[[6]]\n",
            "[1] 6\n",
            "\n"
          ],
          "name": "stdout"
        },
        {
          "output_type": "display_data",
          "data": {
            "text/html": [
              "<ol class=list-inline>\n",
              "\t<li>2</li>\n",
              "\t<li>3</li>\n",
              "\t<li>4</li>\n",
              "\t<li>5</li>\n",
              "\t<li>6</li>\n",
              "\t<li>7</li>\n",
              "</ol>\n"
            ],
            "text/latex": "\\begin{enumerate*}\n\\item 2\n\\item 3\n\\item 4\n\\item 5\n\\item 6\n\\item 7\n\\end{enumerate*}\n",
            "text/markdown": "1. 2\n2. 3\n3. 4\n4. 5\n5. 6\n6. 7\n\n\n",
            "text/plain": [
              "[1] 2 3 4 5 6 7"
            ]
          },
          "metadata": {
            "tags": []
          }
        },
        {
          "output_type": "stream",
          "text": [
            "[[1]]\n",
            "[1] 1 2 3 4 5 6\n",
            "\n"
          ],
          "name": "stdout"
        },
        {
          "output_type": "display_data",
          "data": {
            "text/html": [
              "<table>\n",
              "<tbody>\n",
              "\t<tr><td>2</td></tr>\n",
              "\t<tr><td>3</td></tr>\n",
              "\t<tr><td>4</td></tr>\n",
              "\t<tr><td>5</td></tr>\n",
              "\t<tr><td>6</td></tr>\n",
              "\t<tr><td>7</td></tr>\n",
              "</tbody>\n",
              "</table>\n"
            ],
            "text/latex": "\\begin{tabular}{l}\n\t 2\\\\\n\t 3\\\\\n\t 4\\\\\n\t 5\\\\\n\t 6\\\\\n\t 7\\\\\n\\end{tabular}\n",
            "text/markdown": "\n| 2 | \n| 3 | \n| 4 | \n| 5 | \n| 6 | \n| 7 | \n\n\n",
            "text/plain": [
              "     [,1]\n",
              "[1,] 2   \n",
              "[2,] 3   \n",
              "[3,] 4   \n",
              "[4,] 5   \n",
              "[5,] 6   \n",
              "[6,] 7   "
            ]
          },
          "metadata": {
            "tags": []
          }
        }
      ]
    },
    {
      "cell_type": "markdown",
      "metadata": {
        "id": "0NTUu10kK5Gb"
      },
      "source": [
        "apply(vector/matrice, rânduri/coloana, funcție) – c(1,3) păstrează dimensiunea 1 și 3 a unei matrice cel puțin tridimensională"
      ]
    },
    {
      "cell_type": "code",
      "metadata": {
        "id": "7nGJ26i8K5Gb",
        "outputId": "9997a562-1b0e-48e4-b793-d5c76537a75e"
      },
      "source": [
        "a <- matrix(c(1:6),nrow=2,ncol=3)\n",
        "print(a)\n",
        "apply(a,1, iter)\n",
        "apply(a,2, iter)"
      ],
      "execution_count": null,
      "outputs": [
        {
          "output_type": "stream",
          "text": [
            "     [,1] [,2] [,3]\n",
            "[1,]    1    3    5\n",
            "[2,]    2    4    6\n"
          ],
          "name": "stdout"
        },
        {
          "output_type": "display_data",
          "data": {
            "text/html": [
              "<table>\n",
              "<tbody>\n",
              "\t<tr><td>2</td><td>3</td></tr>\n",
              "\t<tr><td>4</td><td>5</td></tr>\n",
              "\t<tr><td>6</td><td>7</td></tr>\n",
              "</tbody>\n",
              "</table>\n"
            ],
            "text/latex": "\\begin{tabular}{ll}\n\t 2 & 3\\\\\n\t 4 & 5\\\\\n\t 6 & 7\\\\\n\\end{tabular}\n",
            "text/markdown": "\n| 2 | 3 | \n| 4 | 5 | \n| 6 | 7 | \n\n\n",
            "text/plain": [
              "     [,1] [,2]\n",
              "[1,] 2    3   \n",
              "[2,] 4    5   \n",
              "[3,] 6    7   "
            ]
          },
          "metadata": {
            "tags": []
          }
        },
        {
          "output_type": "display_data",
          "data": {
            "text/html": [
              "<table>\n",
              "<tbody>\n",
              "\t<tr><td>2</td><td>4</td><td>6</td></tr>\n",
              "\t<tr><td>3</td><td>5</td><td>7</td></tr>\n",
              "</tbody>\n",
              "</table>\n"
            ],
            "text/latex": "\\begin{tabular}{lll}\n\t 2 & 4 & 6\\\\\n\t 3 & 5 & 7\\\\\n\\end{tabular}\n",
            "text/markdown": "\n| 2 | 4 | 6 | \n| 3 | 5 | 7 | \n\n\n",
            "text/plain": [
              "     [,1] [,2] [,3]\n",
              "[1,] 2    4    6   \n",
              "[2,] 3    5    7   "
            ]
          },
          "metadata": {
            "tags": []
          }
        }
      ]
    },
    {
      "cell_type": "markdown",
      "metadata": {
        "id": "AvpDD7aiK5Ge"
      },
      "source": [
        "mapply(funcție, vector, vector) – aplică o funcție având ca argumente un element din x și un element din y"
      ]
    },
    {
      "cell_type": "code",
      "metadata": {
        "id": "NGRiHvyyK5Ge",
        "outputId": "8c525016-a494-42a4-dd1a-646247bc62a6"
      },
      "source": [
        "a <- 1:6\n",
        "b <- 3:8\n",
        "mapply(sum,a, b)"
      ],
      "execution_count": null,
      "outputs": [
        {
          "output_type": "display_data",
          "data": {
            "text/html": [
              "<ol class=list-inline>\n",
              "\t<li>4</li>\n",
              "\t<li>6</li>\n",
              "\t<li>8</li>\n",
              "\t<li>10</li>\n",
              "\t<li>12</li>\n",
              "\t<li>14</li>\n",
              "</ol>\n"
            ],
            "text/latex": "\\begin{enumerate*}\n\\item 4\n\\item 6\n\\item 8\n\\item 10\n\\item 12\n\\item 14\n\\end{enumerate*}\n",
            "text/markdown": "1. 4\n2. 6\n3. 8\n4. 10\n5. 12\n6. 14\n\n\n",
            "text/plain": [
              "[1]  4  6  8 10 12 14"
            ]
          },
          "metadata": {
            "tags": []
          }
        }
      ]
    },
    {
      "cell_type": "markdown",
      "metadata": {
        "id": "TUQinYY3K5Gg"
      },
      "source": [
        "tapply(vector, factori, funcție) – aplică funcția grupând elementele vectorului în funcție de factori"
      ]
    },
    {
      "cell_type": "code",
      "metadata": {
        "id": "ZJtr6BhaK5Gg",
        "outputId": "8eec41ba-39a0-4aa7-e984-6abb68beaa97"
      },
      "source": [
        "a <- 1:6\n",
        "tapply(a,a<3, iter)"
      ],
      "execution_count": null,
      "outputs": [
        {
          "output_type": "display_data",
          "data": {
            "text/html": [
              "<dl>\n",
              "\t<dt>$`FALSE`</dt>\n",
              "\t\t<dd><ol class=list-inline>\n",
              "\t<li>4</li>\n",
              "\t<li>5</li>\n",
              "\t<li>6</li>\n",
              "\t<li>7</li>\n",
              "</ol>\n",
              "</dd>\n",
              "\t<dt>$`TRUE`</dt>\n",
              "\t\t<dd><ol class=list-inline>\n",
              "\t<li>2</li>\n",
              "\t<li>3</li>\n",
              "</ol>\n",
              "</dd>\n",
              "</dl>\n"
            ],
            "text/latex": "\\begin{description}\n\\item[\\$`FALSE`] \\begin{enumerate*}\n\\item 4\n\\item 5\n\\item 6\n\\item 7\n\\end{enumerate*}\n\n\\item[\\$`TRUE`] \\begin{enumerate*}\n\\item 2\n\\item 3\n\\end{enumerate*}\n\n\\end{description}\n",
            "text/markdown": "$`FALSE`\n:   1. 4\n2. 5\n3. 6\n4. 7\n\n\n\n$`TRUE`\n:   1. 2\n2. 3\n\n\n\n\n\n",
            "text/plain": [
              "$`FALSE`\n",
              "[1] 4 5 6 7\n",
              "\n",
              "$`TRUE`\n",
              "[1] 2 3\n"
            ]
          },
          "metadata": {
            "tags": []
          }
        }
      ]
    },
    {
      "cell_type": "markdown",
      "metadata": {
        "id": "YLq3fa1fK5Gk"
      },
      "source": [
        "split(vector/data.frame/list,matrice, factori) – imparte vectorul in elemente de listă în funcție de factori (list(factori,factori))"
      ]
    },
    {
      "cell_type": "code",
      "metadata": {
        "id": "9IJtfe7KK5Gl",
        "outputId": "84afdd81-53a4-4e1b-a1c3-2c285f720880"
      },
      "source": [
        "a <- 1:6\n",
        "split(a,a<3)\n",
        "split(a,list(a<3,a%%2==0))"
      ],
      "execution_count": null,
      "outputs": [
        {
          "output_type": "display_data",
          "data": {
            "text/html": [
              "<dl>\n",
              "\t<dt>$`FALSE`</dt>\n",
              "\t\t<dd><ol class=list-inline>\n",
              "\t<li>3</li>\n",
              "\t<li>4</li>\n",
              "\t<li>5</li>\n",
              "\t<li>6</li>\n",
              "</ol>\n",
              "</dd>\n",
              "\t<dt>$`TRUE`</dt>\n",
              "\t\t<dd><ol class=list-inline>\n",
              "\t<li>1</li>\n",
              "\t<li>2</li>\n",
              "</ol>\n",
              "</dd>\n",
              "</dl>\n"
            ],
            "text/latex": "\\begin{description}\n\\item[\\$`FALSE`] \\begin{enumerate*}\n\\item 3\n\\item 4\n\\item 5\n\\item 6\n\\end{enumerate*}\n\n\\item[\\$`TRUE`] \\begin{enumerate*}\n\\item 1\n\\item 2\n\\end{enumerate*}\n\n\\end{description}\n",
            "text/markdown": "$`FALSE`\n:   1. 3\n2. 4\n3. 5\n4. 6\n\n\n\n$`TRUE`\n:   1. 1\n2. 2\n\n\n\n\n\n",
            "text/plain": [
              "$`FALSE`\n",
              "[1] 3 4 5 6\n",
              "\n",
              "$`TRUE`\n",
              "[1] 1 2\n"
            ]
          },
          "metadata": {
            "tags": []
          }
        },
        {
          "output_type": "display_data",
          "data": {
            "text/html": [
              "<dl>\n",
              "\t<dt>$FALSE.FALSE</dt>\n",
              "\t\t<dd><ol class=list-inline>\n",
              "\t<li>3</li>\n",
              "\t<li>5</li>\n",
              "</ol>\n",
              "</dd>\n",
              "\t<dt>$TRUE.FALSE</dt>\n",
              "\t\t<dd>1</dd>\n",
              "\t<dt>$FALSE.TRUE</dt>\n",
              "\t\t<dd><ol class=list-inline>\n",
              "\t<li>4</li>\n",
              "\t<li>6</li>\n",
              "</ol>\n",
              "</dd>\n",
              "\t<dt>$TRUE.TRUE</dt>\n",
              "\t\t<dd>2</dd>\n",
              "</dl>\n"
            ],
            "text/latex": "\\begin{description}\n\\item[\\$FALSE.FALSE] \\begin{enumerate*}\n\\item 3\n\\item 5\n\\end{enumerate*}\n\n\\item[\\$TRUE.FALSE] 1\n\\item[\\$FALSE.TRUE] \\begin{enumerate*}\n\\item 4\n\\item 6\n\\end{enumerate*}\n\n\\item[\\$TRUE.TRUE] 2\n\\end{description}\n",
            "text/markdown": "$FALSE.FALSE\n:   1. 3\n2. 5\n\n\n\n$TRUE.FALSE\n:   1\n$FALSE.TRUE\n:   1. 4\n2. 6\n\n\n\n$TRUE.TRUE\n:   2\n\n\n",
            "text/plain": [
              "$FALSE.FALSE\n",
              "[1] 3 5\n",
              "\n",
              "$TRUE.FALSE\n",
              "[1] 1\n",
              "\n",
              "$FALSE.TRUE\n",
              "[1] 4 6\n",
              "\n",
              "$TRUE.TRUE\n",
              "[1] 2\n"
            ]
          },
          "metadata": {
            "tags": []
          }
        }
      ]
    },
    {
      "cell_type": "markdown",
      "metadata": {
        "id": "LL7mTsyiK5Gn"
      },
      "source": [
        "#### Funcții anonime\n",
        "Pentru funcțiile predefinite, putem folosi într-un anumit moment funcții anonime."
      ]
    },
    {
      "cell_type": "code",
      "metadata": {
        "id": "0JzdzScFK5Go",
        "outputId": "9659bed9-86df-471e-9ad9-c7eefd65100b"
      },
      "source": [
        "a <- list(1,2,3,4,5,6)\n",
        "print(a)\n",
        "lapply(a, function(x){x*2})"
      ],
      "execution_count": null,
      "outputs": [
        {
          "output_type": "stream",
          "text": [
            "[[1]]\n",
            "[1] 1\n",
            "\n",
            "[[2]]\n",
            "[1] 2\n",
            "\n",
            "[[3]]\n",
            "[1] 3\n",
            "\n",
            "[[4]]\n",
            "[1] 4\n",
            "\n",
            "[[5]]\n",
            "[1] 5\n",
            "\n",
            "[[6]]\n",
            "[1] 6\n",
            "\n"
          ],
          "name": "stdout"
        },
        {
          "output_type": "display_data",
          "data": {
            "text/html": [
              "<ol>\n",
              "\t<li>2</li>\n",
              "\t<li>4</li>\n",
              "\t<li>6</li>\n",
              "\t<li>8</li>\n",
              "\t<li>10</li>\n",
              "\t<li>12</li>\n",
              "</ol>\n"
            ],
            "text/latex": "\\begin{enumerate}\n\\item 2\n\\item 4\n\\item 6\n\\item 8\n\\item 10\n\\item 12\n\\end{enumerate}\n",
            "text/markdown": "1. 2\n2. 4\n3. 6\n4. 8\n5. 10\n6. 12\n\n\n",
            "text/plain": [
              "[[1]]\n",
              "[1] 2\n",
              "\n",
              "[[2]]\n",
              "[1] 4\n",
              "\n",
              "[[3]]\n",
              "[1] 6\n",
              "\n",
              "[[4]]\n",
              "[1] 8\n",
              "\n",
              "[[5]]\n",
              "[1] 10\n",
              "\n",
              "[[6]]\n",
              "[1] 12\n"
            ]
          },
          "metadata": {
            "tags": []
          }
        }
      ]
    },
    {
      "cell_type": "markdown",
      "metadata": {
        "id": "1CQnVYyKK5Gq"
      },
      "source": [
        "#### Operatori\n",
        "Putem defini noi operatori binari utilizând formatul %nume_operator% si definind funcția pe care o execută operatorul asupra \"%p%\". \n",
        "Atenție! La definire trebuie să folosim ghilimele, iar la utilizare putem folosi formatul inițial."
      ]
    },
    {
      "cell_type": "code",
      "metadata": {
        "id": "fRW0skGBK5Gs",
        "outputId": "b8a644b9-3bc2-4418-fa22-673d330b6881"
      },
      "source": [
        "a <- 1\n",
        "b <- 2\n",
        "\"%p%\" <- function(x,y) {x*2+y}\n",
        "a %p% b"
      ],
      "execution_count": null,
      "outputs": [
        {
          "output_type": "display_data",
          "data": {
            "text/html": [
              "4"
            ],
            "text/latex": "4",
            "text/markdown": "4",
            "text/plain": [
              "[1] 4"
            ]
          },
          "metadata": {
            "tags": []
          }
        }
      ]
    },
    {
      "cell_type": "markdown",
      "metadata": {
        "id": "rj_m4kAWK5Gy"
      },
      "source": [
        "### Simulare/Experiment\n",
        "\n",
        "Foarte important în procesul ștințific este reproducerea experimentelor și simulăriilor. Adeseori pentru a nu luat în cosniderare toate cazuriilor se alege un caz aleator sau se genează numere aleatorii când nu avem date de intrare precise. Pentru a avea un experiment ce poate fi reprodus se folosește funcția de setare a seed-ului:\n"
      ]
    },
    {
      "cell_type": "code",
      "metadata": {
        "id": "J3bwvrRsK5Gy"
      },
      "source": [
        "set.seed(10)"
      ],
      "execution_count": null,
      "outputs": []
    },
    {
      "cell_type": "markdown",
      "metadata": {
        "id": "PWN4VPk2K5G1"
      },
      "source": [
        "Dacă dorim să generăm 10 numere aleatorii cu media 0 și deviația standard 1 folosim funcție:"
      ]
    },
    {
      "cell_type": "code",
      "metadata": {
        "id": "DAdudX9KK5G1",
        "outputId": "fa36f18c-73cb-4262-8363-d9dd21174ddf"
      },
      "source": [
        "rnorm(10, mean=0, sd=1)"
      ],
      "execution_count": null,
      "outputs": [
        {
          "output_type": "display_data",
          "data": {
            "text/html": [
              "<ol class=list-inline>\n",
              "\t<li>0.0187461709418264</li>\n",
              "\t<li>-0.184252542069064</li>\n",
              "\t<li>-1.37133054992251</li>\n",
              "\t<li>-0.599167715783718</li>\n",
              "\t<li>0.294545126567508</li>\n",
              "\t<li>0.389794300700167</li>\n",
              "\t<li>-1.20807617542949</li>\n",
              "\t<li>-0.363676017470862</li>\n",
              "\t<li>-1.62667268170309</li>\n",
              "\t<li>-0.256478394123992</li>\n",
              "</ol>\n"
            ],
            "text/latex": "\\begin{enumerate*}\n\\item 0.0187461709418264\n\\item -0.184252542069064\n\\item -1.37133054992251\n\\item -0.599167715783718\n\\item 0.294545126567508\n\\item 0.389794300700167\n\\item -1.20807617542949\n\\item -0.363676017470862\n\\item -1.62667268170309\n\\item -0.256478394123992\n\\end{enumerate*}\n",
            "text/markdown": "1. 0.0187461709418264\n2. -0.184252542069064\n3. -1.37133054992251\n4. -0.599167715783718\n5. 0.294545126567508\n6. 0.389794300700167\n7. -1.20807617542949\n8. -0.363676017470862\n9. -1.62667268170309\n10. -0.256478394123992\n\n\n",
            "text/plain": [
              " [1]  0.01874617 -0.18425254 -1.37133055 -0.59916772  0.29454513  0.38979430\n",
              " [7] -1.20807618 -0.36367602 -1.62667268 -0.25647839"
            ]
          },
          "metadata": {
            "tags": []
          }
        }
      ]
    },
    {
      "cell_type": "markdown",
      "metadata": {
        "id": "74gdlwDkK5G3"
      },
      "source": [
        "Dacă dorim să alege un număr de 3 valorii aleatoriu dintr-un vector fără înlocuire:"
      ]
    },
    {
      "cell_type": "code",
      "metadata": {
        "id": "Zsr-Gk4yK5G4",
        "outputId": "defd5383-0c75-4529-c9da-f9e924882cd1"
      },
      "source": [
        "sample(1:10, 3, replace=FALSE)"
      ],
      "execution_count": null,
      "outputs": [
        {
          "output_type": "display_data",
          "data": {
            "text/html": [
              "<ol class=list-inline>\n",
              "\t<li>9</li>\n",
              "\t<li>6</li>\n",
              "\t<li>7</li>\n",
              "</ol>\n"
            ],
            "text/latex": "\\begin{enumerate*}\n\\item 9\n\\item 6\n\\item 7\n\\end{enumerate*}\n",
            "text/markdown": "1. 9\n2. 6\n3. 7\n\n\n",
            "text/plain": [
              "[1] 9 6 7"
            ]
          },
          "metadata": {
            "tags": []
          }
        }
      ]
    },
    {
      "cell_type": "markdown",
      "metadata": {
        "id": "QeJYqF6yK5G6"
      },
      "source": [
        "În caz de vă loviți de erori puteți folosi funcțiile traceback() și debug(funcție)."
      ]
    },
    {
      "cell_type": "markdown",
      "metadata": {
        "id": "j0BGmFjpK5G8"
      },
      "source": [
        "# Exercitii\n",
        "\n",
        "## 1\n",
        "Creati un vector x cu 20 de elemente, folosind functia rnorm.\n",
        "Hint: Puteti folosi mean=0, sd=0.5."
      ]
    },
    {
      "cell_type": "code",
      "metadata": {
        "id": "N2kEJXQWK5G9"
      },
      "source": [
        ""
      ],
      "execution_count": null,
      "outputs": []
    },
    {
      "cell_type": "markdown",
      "metadata": {
        "id": "ilVPeN1zK5G-"
      },
      "source": [
        "## 2\n",
        "Construiti un vector cu elementele din x de la pozițiile 3, 5, 7, 11, 13, 19."
      ]
    },
    {
      "cell_type": "code",
      "metadata": {
        "id": "SIOx38G9K5HA"
      },
      "source": [
        ""
      ],
      "execution_count": null,
      "outputs": []
    },
    {
      "cell_type": "markdown",
      "metadata": {
        "id": "Jk48gZxfK5HB"
      },
      "source": [
        "## 3\n",
        "Construiti un vector cu elementele din x, mai puțin cele de la pozițiile 1, 5, 7, 16, 18.\n",
        "Hint: Folositi indecsi negativi"
      ]
    },
    {
      "cell_type": "code",
      "metadata": {
        "id": "g7pwDgKmK5HB"
      },
      "source": [
        ""
      ],
      "execution_count": null,
      "outputs": []
    },
    {
      "cell_type": "markdown",
      "metadata": {
        "id": "RX5b5uX7K5HD"
      },
      "source": [
        "## 4\n",
        "Simulati 4 aruncari cu zarul, folosind functia 'sample'. Rezultatele\n",
        "vor fi afisate intr-un vector, ca rezultat al functiei.\n",
        "Hint: Parametrul replace, setat pe True, permite repetarea unei valori random."
      ]
    },
    {
      "cell_type": "code",
      "metadata": {
        "id": "yhRzUXxcK5HD"
      },
      "source": [
        ""
      ],
      "execution_count": null,
      "outputs": []
    },
    {
      "cell_type": "markdown",
      "metadata": {
        "id": "jTgQC5VdK5HO"
      },
      "source": [
        "## 5\n",
        "Sa presupunem ca vrem sa simulam aruncarea unei monede inechitabile, cu 2 fete. Aceasta moneda are o probabilitate de 0.3 pentru 'ban' si o probabilitate de 0.7 pentru 'stema'. Reprezentam 'banul' cu 0 si 'stema' cu 1. Construiti, folosind functia 'sample', un vector care simuleaza cele 100 de aruncari.\n",
        "Hint: In functia 'sample' se poate adauga un parametru extra, numit 'prob'."
      ]
    },
    {
      "cell_type": "code",
      "metadata": {
        "id": "t5OyTcnnK5HO"
      },
      "source": [
        ""
      ],
      "execution_count": null,
      "outputs": []
    },
    {
      "cell_type": "markdown",
      "metadata": {
        "id": "J_xQ2vliK5HS"
      },
      "source": [
        "## 6\n",
        "Se da urmatoarea lista:"
      ]
    },
    {
      "cell_type": "code",
      "metadata": {
        "id": "lsgmHQuGK5HS"
      },
      "source": [
        "x <- list(a = 1:10, beta = exp(-3:3), logic = c(TRUE,FALSE,FALSE,TRUE))"
      ],
      "execution_count": null,
      "outputs": []
    },
    {
      "cell_type": "markdown",
      "metadata": {
        "id": "U3M5ZRsIkORJ"
      },
      "source": [
        "Folosind lapply, calculati media pentru a, beta si logic."
      ]
    },
    {
      "cell_type": "code",
      "metadata": {
        "id": "oeagq3MnkPAP"
      },
      "source": [
        ""
      ],
      "execution_count": null,
      "outputs": []
    },
    {
      "cell_type": "markdown",
      "metadata": {
        "id": "TCCfDEUMK5HU"
      },
      "source": [
        "\n",
        "## 7\n",
        "Se da codul de mai jos:"
      ]
    },
    {
      "cell_type": "code",
      "metadata": {
        "id": "zezH1XJIK5HU"
      },
      "source": [
        "A<-c(1:9)\n",
        "B<-c(1:12)\n",
        "C<-c(1:15)\n",
        "my.lst<-list(A,B,C)"
      ],
      "execution_count": null,
      "outputs": []
    },
    {
      "cell_type": "markdown",
      "metadata": {
        "id": "yh7aMsDoK5Hg"
      },
      "source": [
        "Folosind sapply, creati o noua lista de tipul 2 * x, unde x reprezinta elementele din my.lst."
      ]
    },
    {
      "cell_type": "code",
      "metadata": {
        "id": "cSlzuw32K5Ho"
      },
      "source": [
        ""
      ],
      "execution_count": null,
      "outputs": []
    },
    {
      "cell_type": "markdown",
      "metadata": {
        "id": "0h7blHM3kAXb"
      },
      "source": [
        "O zi bună !"
      ]
    }
  ]
}